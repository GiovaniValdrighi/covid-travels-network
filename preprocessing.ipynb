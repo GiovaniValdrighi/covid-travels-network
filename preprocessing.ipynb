{
 "cells": [
  {
   "cell_type": "code",
   "execution_count": 89,
   "id": "e58c484d",
   "metadata": {},
   "outputs": [],
   "source": [
    "import pandas as pd\n",
    "import numpy as np\n",
    "import matplotlib.pyplot as plt"
   ]
  },
  {
   "cell_type": "code",
   "execution_count": 155,
   "id": "11757eca",
   "metadata": {
    "scrolled": true
   },
   "outputs": [
    {
     "name": "stdout",
     "output_type": "stream",
     "text": [
      "Index(['ID', 'COUNTRY_NAME', 'ISO3', 'ISO2', 'POLICY_TYPE', 'POLICY_SUBTYPE',\n",
      "       'START_DATE', 'END_DATE', 'AIR', 'AIR_TYPE', 'TARGETS_AIR', 'LAND',\n",
      "       'LAND_TYPE', 'TARGETS_LAND', 'SEA', 'SEA_TYPE', 'TARGETS_SEA',\n",
      "       'CITIZEN', 'CITIZEN_LIST', 'HISTORY_BAN', 'HISTORY_BAN_LIST', 'REFUGEE',\n",
      "       'REFUGEE_LIST', 'VISA_BAN', 'VISA_BAN_TYPE', 'VISA_BAN_LIST',\n",
      "       'CITIZEN_EXCEP', 'CITIZEN_EXCEP_LIST', 'COUNTRY_EXCEP',\n",
      "       'COUNTRY_EXCEP_LIST', 'WORK_EXCEP', 'SOURCE_QUALITY', 'SOURCE_TYPE',\n",
      "       'INTERNAL_GOVT_SOURCE', 'AIRLINE_SOURCE', 'INSURANCE_SOURCE',\n",
      "       'GOVT_SOCIAL_MED_SOURCE', 'EXT_GOVT_SOURCE', 'INTERNAL_MEDIA_SOURCE',\n",
      "       'EXT_MEDIA_SOURCE', 'OTHER_SOURCE', 'END_SOURCE', 'COMMENTS', 'OLD_ID'],\n",
      "      dtype='object')\n"
     ]
    }
   ],
   "source": [
    "df = pd.read_csv('data/policy_list.csv')\n",
    "#df = df.drop(columns = ['ID',  'ISO3',  'ISO2', 'SOURCE_QUALITY', 'SOURCE_TYPE',\n",
    "#                        'INTERNAL_GOVT_SOURCE', 'AIRLINE_SOURCE', 'INSURANCE_SOURCE',\n",
    "#                        'GOVT_SOCIAL_MED_SOURCE', 'EXT_GOVT_SOURCE', 'INTERNAL_MEDIA_SOURCE',\n",
    "#                        'EXT_MEDIA_SOURCE', 'OTHER_SOURCE', 'END_SOURCE', 'OLD_ID'])\n",
    "df.START_DATE = pd.to_datetime(df.START_DATE, format = \"%m_%d_%y\", errors = 'coerce')\n",
    "df.END_DATE = pd.to_datetime(df.END_DATE, format = \"%m_%d_%y\", errors = 'coerce')\n",
    "#fixing wrong dates\n",
    "df.loc[878, ['END_DATE']] = pd.to_datetime('2021-01-10')\n",
    "df.loc[69, ['END_DATE']] = pd.to_datetime('2020-04-28')\n",
    "df.loc[421, ['START_DATE']] = pd.to_datetime('2020-08-17')\n",
    "df.loc[595, ['END_DATE']] = pd.to_datetime('2021-01-04')\n",
    "df.loc[918, ['END_DATE']] = pd.to_datetime('2021-02-01')\n",
    "df.loc[1196, ['END_DATE']] = pd.to_datetime('2021-09-21')\n",
    "\n",
    "df = df.sort_values('START_DATE')\n",
    "#When variables [AIR, LAND, SEA] are equals to 0, the variables {}_TYPE and {}_TARGET are NAN\n",
    "#But it isn't missing values, they should be replaced with \"None\"\n",
    "for col in ['AIR', 'LAND', 'SEA']:\n",
    "    pass\n",
    "    #df.loc[df[col] == 0, col+'_TYPE'] = \"None\"\n",
    "    #df.loc[df[col] == 0, 'TARGETS_'+col] = \"None\"\n",
    "    \n",
    "#The same problem occurs with [CITIZEN, HISTORY, REFUGEE] and {}_LIST\n",
    "for col in ['CITIZEN', 'HISTORY_BAN', 'REFUGEE', 'VISA_BAN', 'COUNTRY_EXCEP', 'CITIZEN_EXCEP']:\n",
    "    pass\n",
    "    #df.loc[df[col] == 0, col+'_LIST'] = \"None\"\n",
    "    \n",
    "#df.loc[df['VISA_BAN'] == 0, 'VISA_BAN_TYPE'] = \"None\"\n",
    "\n",
    "\n",
    "print(df.columns)"
   ]
  },
  {
   "cell_type": "code",
   "execution_count": 176,
   "id": "1d10df9d",
   "metadata": {},
   "outputs": [
    {
     "data": {
      "text/plain": [
       "ID                        0.000000\n",
       "COUNTRY_NAME              0.000000\n",
       "ISO3                      0.000000\n",
       "ISO2                      0.005181\n",
       "POLICY_TYPE               0.000000\n",
       "POLICY_SUBTYPE            0.000000\n",
       "START_DATE                0.005922\n",
       "END_DATE                  0.206514\n",
       "AIR                       0.000000\n",
       "AIR_TYPE                  0.623242\n",
       "TARGETS_AIR               0.709845\n",
       "LAND                      0.000000\n",
       "LAND_TYPE                 0.867506\n",
       "TARGETS_LAND              0.905996\n",
       "SEA                       0.000000\n",
       "SEA_TYPE                  0.906736\n",
       "TARGETS_SEA               0.922280\n",
       "CITIZEN                   0.000000\n",
       "CITIZEN_LIST              0.918579\n",
       "HISTORY_BAN               0.000000\n",
       "HISTORY_BAN_LIST          0.867506\n",
       "REFUGEE                   0.000000\n",
       "REFUGEE_LIST              0.998520\n",
       "VISA_BAN                  0.000000\n",
       "VISA_BAN_TYPE             0.954108\n",
       "VISA_BAN_LIST             0.983716\n",
       "CITIZEN_EXCEP             0.000000\n",
       "CITIZEN_EXCEP_LIST        0.758697\n",
       "COUNTRY_EXCEP             0.000000\n",
       "COUNTRY_EXCEP_LIST        0.926721\n",
       "WORK_EXCEP                0.000000\n",
       "SOURCE_QUALITY            0.000000\n",
       "SOURCE_TYPE               0.000000\n",
       "INTERNAL_GOVT_SOURCE      0.386380\n",
       "AIRLINE_SOURCE            0.846780\n",
       "INSURANCE_SOURCE          0.876388\n",
       "GOVT_SOCIAL_MED_SOURCE    0.954848\n",
       "EXT_GOVT_SOURCE           0.939304\n",
       "INTERNAL_MEDIA_SOURCE     0.914878\n",
       "EXT_MEDIA_SOURCE          0.940044\n",
       "OTHER_SOURCE              0.823834\n",
       "END_SOURCE                0.695781\n",
       "COMMENTS                  0.888971\n",
       "OLD_ID                    0.002221\n",
       "dtype: float64"
      ]
     },
     "execution_count": 176,
     "metadata": {},
     "output_type": "execute_result"
    }
   ],
   "source": [
    "df.isna().mean()"
   ]
  },
  {
   "cell_type": "code",
   "execution_count": 184,
   "id": "1b4a87e9",
   "metadata": {},
   "outputs": [
    {
     "data": {
      "text/plain": [
       "ID                                                                     KG02\n",
       "COUNTRY_NAME                                                     Kyrgyzstan\n",
       "ISO3                                                                    KGZ\n",
       "ISO2                                                                     KG\n",
       "POLICY_TYPE                                                        COMPLETE\n",
       "POLICY_SUBTYPE                                                CITIZEN_EXCEP\n",
       "START_DATE                                              2020-03-17 00:00:00\n",
       "END_DATE                                                2020-12-09 00:00:00\n",
       "AIR                                                                       0\n",
       "AIR_TYPE                                                                NaN\n",
       "TARGETS_AIR                                                             NaN\n",
       "LAND                                                                      0\n",
       "LAND_TYPE                                                               NaN\n",
       "TARGETS_LAND                                                            NaN\n",
       "SEA                                                                       0\n",
       "SEA_TYPE                                                                NaN\n",
       "TARGETS_SEA                                                             NaN\n",
       "CITIZEN                                                                   0\n",
       "CITIZEN_LIST                                                            NaN\n",
       "HISTORY_BAN                                                               0\n",
       "HISTORY_BAN_LIST                                                        NaN\n",
       "REFUGEE                                                                   0\n",
       "REFUGEE_LIST                                                            NaN\n",
       "VISA_BAN                                                                  0\n",
       "VISA_BAN_TYPE                                                           NaN\n",
       "VISA_BAN_LIST                                                           NaN\n",
       "CITIZEN_EXCEP                                                             1\n",
       "CITIZEN_EXCEP_LIST                                                Citizens \n",
       "COUNTRY_EXCEP                                                             0\n",
       "COUNTRY_EXCEP_LIST                                                      NaN\n",
       "WORK_EXCEP                                                                0\n",
       "SOURCE_QUALITY                                                    Less Sure\n",
       "SOURCE_TYPE                                                             5,8\n",
       "INTERNAL_GOVT_SOURCE                                                    NaN\n",
       "AIRLINE_SOURCE                                                          NaN\n",
       "INSURANCE_SOURCE                                                        NaN\n",
       "GOVT_SOCIAL_MED_SOURCE                                                  NaN\n",
       "EXT_GOVT_SOURCE           https://web.archive.org/web/20200317063554/htt...\n",
       "INTERNAL_MEDIA_SOURCE                                                   NaN\n",
       "EXT_MEDIA_SOURCE                                                        NaN\n",
       "OTHER_SOURCE              https://web.archive.org/web/20200320230441/htt...\n",
       "END_SOURCE                                                              NaN\n",
       "COMMENTS                                                                NaN\n",
       "OLD_ID                                                                 8358\n",
       "Name: 140, dtype: object"
      ]
     },
     "execution_count": 184,
     "metadata": {},
     "output_type": "execute_result"
    }
   ],
   "source": [
    "df.loc[140, :]"
   ]
  },
  {
   "cell_type": "code",
   "execution_count": 86,
   "id": "3a339348",
   "metadata": {},
   "outputs": [
    {
     "name": "stdout",
     "output_type": "stream",
     "text": [
      "Unique countries that created policies: 247\n",
      "Initial start date: 2020-01-22 00:00:00\n",
      "Last end date: 2021-10-01 00:00:00\n",
      "\n",
      "Type of policys:\n",
      "PARTIAL                965\n",
      "COMPLETE               378\n",
      "NOPOLICYIMPLEMENTED      8\n",
      "Name: POLICY_TYPE, dtype: int64\n",
      "\n",
      "Closures:\n",
      "Total of air closures: 509/1351\n",
      "Total of land closures: 179/1351\n",
      "Total of sea closures: 126/1351\n",
      "\n",
      "Partial closures params:\n",
      "citizen: 110/1351\n",
      "history_ban: 179/1351\n",
      "refugee: 3/1351\n",
      "visa_ban: 62/1351\n",
      "\n",
      "Complete closure exceptions:\n",
      "citizen_excep: 326/1351\n",
      "country_excep: 99/1351\n",
      "work_excep: 92/1351\n"
     ]
    }
   ],
   "source": [
    "print(f\"Unique countries that created policies: {len(df.COUNTRY_NAME.unique())}\")\n",
    "print(f\"Initial start date: {df.START_DATE.min()}\")\n",
    "print(f\"Last end date: {df.END_DATE.max()}\")\n",
    "print(\"\\nType of policys:\")\n",
    "print(df.POLICY_TYPE.value_counts())\n",
    "print(\"\\nClosures:\")\n",
    "print(f\"Total of air closures: {df[df.AIR == 1].shape[0]}/{df.shape[0]}\")\n",
    "print(f\"Total of land closures: {df[df.LAND == 1].shape[0]}/{df.shape[0]}\")\n",
    "print(f\"Total of sea closures: {df[df.SEA == 1].shape[0]}/{df.shape[0]}\")\n",
    "print(\"\\nPartial closures params:\")\n",
    "for col in ['CITIZEN', 'HISTORY_BAN', 'REFUGEE', 'VISA_BAN']:\n",
    "    print(f\"{col.lower()}: {df[df[col] == 1].shape[0]}/{df.shape[0]}\")\n",
    "print(\"\\nComplete closure exceptions:\")    \n",
    "for col in ['CITIZEN_EXCEP', 'COUNTRY_EXCEP', 'WORK_EXCEP']:\n",
    "    print(f\"{col.lower()}: {df[df[col] == 1].shape[0]}/{df.shape[0]}\")"
   ]
  },
  {
   "cell_type": "code",
   "execution_count": 153,
   "id": "c79a69be",
   "metadata": {},
   "outputs": [
    {
     "name": "stderr",
     "output_type": "stream",
     "text": [
      "<ipython-input-153-12d0a287d77c>:11: UserWarning: 'set_params()' not defined for locator of type <class 'matplotlib.dates.AutoDateLocator'>\n",
      "  plt.locator_params(axis='x', nbins=4)\n"
     ]
    },
    {
     "data": {
      "image/png": "[encoded data removed]",
      "text/plain": [
       "<Figure size 432x288 with 1 Axes>"
      ]
     },
     "metadata": {
      "needs_background": "light"
     },
     "output_type": "display_data"
    }
   ],
   "source": [
    "df = df.sort_values('START_DATE')\n",
    "for i in range(df.shape[0]):\n",
    "    if not (pd.isnull(df.END_DATE.iloc[i]) or pd.isnull(df.START_DATE.iloc[i])):\n",
    "        if df.POLICY_TYPE.iloc[i] == 'PARTIAL':\n",
    "            plt.plot([df.START_DATE.iloc[i], df.END_DATE.iloc[i]], [i, i], color = 'blue', alpha = 0.6)\n",
    "        elif df.POLICY_TYPE.iloc[i] == 'COMPLETE':\n",
    "            plt.plot([df.START_DATE.iloc[i], df.END_DATE.iloc[i]], [i, i], color = 'green', alpha = 0.6)\n",
    "            \n",
    "plt.title(\"Closures time interval\")\n",
    "plt.xlabel(\"Date\")\n",
    "plt.show()"
   ]
  }
 ],
 "metadata": {
  "kernelspec": {
   "display_name": "Python 3",
   "language": "python",
   "name": "python3"
  },
  "language_info": {
   "codemirror_mode": {
    "name": "ipython",
    "version": 3
   },
   "file_extension": ".py",
   "mimetype": "text/x-python",
   "name": "python",
   "nbconvert_exporter": "python",
   "pygments_lexer": "ipython3",
   "version": "3.8.10"
  }
 },
 "nbformat": 4,
 "nbformat_minor": 5
}
