{
 "cells": [
  {
   "cell_type": "code",
   "execution_count": 1,
   "metadata": {},
   "outputs": [],
   "source": [
    "import pandas as pd\n",
    "import numpy as np\n",
    "import matplotlib.pyplot as plt"
   ]
  },
  {
   "cell_type": "markdown",
   "metadata": {},
   "source": [
    "# Checking data"
   ]
  },
  {
   "cell_type": "code",
   "execution_count": 2,
   "metadata": {
    "scrolled": true
   },
   "outputs": [
    {
     "name": "stdout",
     "output_type": "stream",
     "text": [
      "Index(['ID', 'COUNTRY_NAME', 'ISO3', 'ISO2', 'POLICY_TYPE', 'POLICY_SUBTYPE',\n",
      "       'START_DATE', 'END_DATE', 'AIR', 'AIR_TYPE', 'TARGETS_AIR', 'LAND',\n",
      "       'LAND_TYPE', 'TARGETS_LAND', 'SEA', 'SEA_TYPE', 'TARGETS_SEA',\n",
      "       'CITIZEN', 'CITIZEN_LIST', 'HISTORY_BAN', 'HISTORY_BAN_LIST', 'REFUGEE',\n",
      "       'REFUGEE_LIST', 'VISA_BAN', 'VISA_BAN_TYPE', 'VISA_BAN_LIST',\n",
      "       'CITIZEN_EXCEP', 'CITIZEN_EXCEP_LIST', 'COUNTRY_EXCEP',\n",
      "       'COUNTRY_EXCEP_LIST', 'WORK_EXCEP', 'SOURCE_QUALITY', 'SOURCE_TYPE',\n",
      "       'INTERNAL_GOVT_SOURCE', 'AIRLINE_SOURCE', 'INSURANCE_SOURCE',\n",
      "       'GOVT_SOCIAL_MED_SOURCE', 'EXT_GOVT_SOURCE', 'INTERNAL_MEDIA_SOURCE',\n",
      "       'EXT_MEDIA_SOURCE', 'OTHER_SOURCE', 'END_SOURCE', 'COMMENTS', 'OLD_ID'],\n",
      "      dtype='object')\n"
     ]
    }
   ],
   "source": [
    "df = pd.read_csv('data/policy_list.csv')\n",
    "#df = df.drop(columns = ['ID',  'ISO3',  'ISO2', 'SOURCE_QUALITY', 'SOURCE_TYPE',\n",
    "#                        'INTERNAL_GOVT_SOURCE', 'AIRLINE_SOURCE', 'INSURANCE_SOURCE',\n",
    "#                        'GOVT_SOCIAL_MED_SOURCE', 'EXT_GOVT_SOURCE', 'INTERNAL_MEDIA_SOURCE',\n",
    "#                        'EXT_MEDIA_SOURCE', 'OTHER_SOURCE', 'END_SOURCE', 'OLD_ID'])\n",
    "df.START_DATE = pd.to_datetime(df.START_DATE, format = \"%m_%d_%y\", errors = 'coerce')\n",
    "df.END_DATE = pd.to_datetime(df.END_DATE, format = \"%m_%d_%y\", errors = 'coerce')\n",
    "#fixing wrong dates\n",
    "df.loc[878, ['END_DATE']] = pd.to_datetime('2021-01-10')\n",
    "df.loc[69, ['END_DATE']] = pd.to_datetime('2020-04-28')\n",
    "df.loc[421, ['START_DATE']] = pd.to_datetime('2020-08-17')\n",
    "df.loc[595, ['END_DATE']] = pd.to_datetime('2021-01-04')\n",
    "df.loc[918, ['END_DATE']] = pd.to_datetime('2021-02-01')\n",
    "df.loc[1196, ['END_DATE']] = pd.to_datetime('2021-09-21')\n",
    "\n",
    "df = df.sort_values('START_DATE')\n",
    "#When variables [AIR, LAND, SEA] are equals to 0, the variables {}_TYPE and {}_TARGET are NAN\n",
    "#But it isn't missing values, they should be replaced with \"None\"\n",
    "for col in ['AIR', 'LAND', 'SEA']:\n",
    "    pass\n",
    "    #df.loc[df[col] == 0, col+'_TYPE'] = \"None\"\n",
    "    #df.loc[df[col] == 0, 'TARGETS_'+col] = \"None\"\n",
    "    \n",
    "#The same problem occurs with [CITIZEN, HISTORY, REFUGEE] and {}_LIST\n",
    "for col in ['CITIZEN', 'HISTORY_BAN', 'REFUGEE', 'VISA_BAN', 'COUNTRY_EXCEP', 'CITIZEN_EXCEP']:\n",
    "    pass\n",
    "    #df.loc[df[col] == 0, col+'_LIST'] = \"None\"\n",
    "    \n",
    "#df.loc[df['VISA_BAN'] == 0, 'VISA_BAN_TYPE'] = \"None\"\n",
    "\n",
    "\n",
    "print(df.columns)"
   ]
  },
  {
   "cell_type": "code",
   "execution_count": 3,
   "metadata": {},
   "outputs": [
    {
     "data": {
      "text/plain": [
       "ID                        0.000000\n",
       "COUNTRY_NAME              0.000000\n",
       "ISO3                      0.000000\n",
       "ISO2                      0.005181\n",
       "POLICY_TYPE               0.000000\n",
       "POLICY_SUBTYPE            0.000000\n",
       "START_DATE                0.005922\n",
       "END_DATE                  0.206514\n",
       "AIR                       0.000000\n",
       "AIR_TYPE                  0.623242\n",
       "TARGETS_AIR               0.709845\n",
       "LAND                      0.000000\n",
       "LAND_TYPE                 0.867506\n",
       "TARGETS_LAND              0.905996\n",
       "SEA                       0.000000\n",
       "SEA_TYPE                  0.906736\n",
       "TARGETS_SEA               0.922280\n",
       "CITIZEN                   0.000000\n",
       "CITIZEN_LIST              0.918579\n",
       "HISTORY_BAN               0.000000\n",
       "HISTORY_BAN_LIST          0.867506\n",
       "REFUGEE                   0.000000\n",
       "REFUGEE_LIST              0.998520\n",
       "VISA_BAN                  0.000000\n",
       "VISA_BAN_TYPE             0.954108\n",
       "VISA_BAN_LIST             0.983716\n",
       "CITIZEN_EXCEP             0.000000\n",
       "CITIZEN_EXCEP_LIST        0.758697\n",
       "COUNTRY_EXCEP             0.000000\n",
       "COUNTRY_EXCEP_LIST        0.926721\n",
       "WORK_EXCEP                0.000000\n",
       "SOURCE_QUALITY            0.000000\n",
       "SOURCE_TYPE               0.000000\n",
       "INTERNAL_GOVT_SOURCE      0.386380\n",
       "AIRLINE_SOURCE            0.846780\n",
       "INSURANCE_SOURCE          0.876388\n",
       "GOVT_SOCIAL_MED_SOURCE    0.954848\n",
       "EXT_GOVT_SOURCE           0.939304\n",
       "INTERNAL_MEDIA_SOURCE     0.914878\n",
       "EXT_MEDIA_SOURCE          0.940044\n",
       "OTHER_SOURCE              0.823834\n",
       "END_SOURCE                0.695781\n",
       "COMMENTS                  0.888971\n",
       "OLD_ID                    0.002221\n",
       "dtype: float64"
      ]
     },
     "execution_count": 3,
     "metadata": {},
     "output_type": "execute_result"
    }
   ],
   "source": [
    "df.isna().mean()"
   ]
  },
  {
   "cell_type": "code",
   "execution_count": 4,
   "metadata": {},
   "outputs": [
    {
     "data": {
      "text/plain": [
       "ID                                                                     KG02\n",
       "COUNTRY_NAME                                                     Kyrgyzstan\n",
       "ISO3                                                                    KGZ\n",
       "ISO2                                                                     KG\n",
       "POLICY_TYPE                                                        COMPLETE\n",
       "POLICY_SUBTYPE                                                CITIZEN_EXCEP\n",
       "START_DATE                                              2020-03-17 00:00:00\n",
       "END_DATE                                                2020-12-09 00:00:00\n",
       "AIR                                                                       0\n",
       "AIR_TYPE                                                                NaN\n",
       "TARGETS_AIR                                                             NaN\n",
       "LAND                                                                      0\n",
       "LAND_TYPE                                                               NaN\n",
       "TARGETS_LAND                                                            NaN\n",
       "SEA                                                                       0\n",
       "SEA_TYPE                                                                NaN\n",
       "TARGETS_SEA                                                             NaN\n",
       "CITIZEN                                                                   0\n",
       "CITIZEN_LIST                                                            NaN\n",
       "HISTORY_BAN                                                               0\n",
       "HISTORY_BAN_LIST                                                        NaN\n",
       "REFUGEE                                                                   0\n",
       "REFUGEE_LIST                                                            NaN\n",
       "VISA_BAN                                                                  0\n",
       "VISA_BAN_TYPE                                                           NaN\n",
       "VISA_BAN_LIST                                                           NaN\n",
       "CITIZEN_EXCEP                                                             1\n",
       "CITIZEN_EXCEP_LIST                                                Citizens \n",
       "COUNTRY_EXCEP                                                             0\n",
       "COUNTRY_EXCEP_LIST                                                      NaN\n",
       "WORK_EXCEP                                                                0\n",
       "SOURCE_QUALITY                                                    Less Sure\n",
       "SOURCE_TYPE                                                             5,8\n",
       "INTERNAL_GOVT_SOURCE                                                    NaN\n",
       "AIRLINE_SOURCE                                                          NaN\n",
       "INSURANCE_SOURCE                                                        NaN\n",
       "GOVT_SOCIAL_MED_SOURCE                                                  NaN\n",
       "EXT_GOVT_SOURCE           https://web.archive.org/web/20200317063554/htt...\n",
       "INTERNAL_MEDIA_SOURCE                                                   NaN\n",
       "EXT_MEDIA_SOURCE                                                        NaN\n",
       "OTHER_SOURCE              https://web.archive.org/web/20200320230441/htt...\n",
       "END_SOURCE                                                              NaN\n",
       "COMMENTS                                                                NaN\n",
       "OLD_ID                                                                 8358\n",
       "Name: 140, dtype: object"
      ]
     },
     "execution_count": 4,
     "metadata": {},
     "output_type": "execute_result"
    }
   ],
   "source": [
    "df.loc[140, :]"
   ]
  },
  {
   "cell_type": "code",
   "execution_count": 5,
   "metadata": {},
   "outputs": [
    {
     "name": "stdout",
     "output_type": "stream",
     "text": [
      "Unique countries that created policies: 247\n",
      "Initial start date: 2020-01-22 00:00:00\n",
      "Last end date: 2021-10-01 00:00:00\n",
      "\n",
      "Type of policys:\n",
      "PARTIAL                965\n",
      "COMPLETE               378\n",
      "NOPOLICYIMPLEMENTED      8\n",
      "Name: POLICY_TYPE, dtype: int64\n",
      "\n",
      "Closures:\n",
      "Total of air closures: 509/1351\n",
      "Total of land closures: 179/1351\n",
      "Total of sea closures: 126/1351\n",
      "\n",
      "Partial closures params:\n",
      "citizen: 110/1351\n",
      "history_ban: 179/1351\n",
      "refugee: 3/1351\n",
      "visa_ban: 62/1351\n",
      "\n",
      "Complete closure exceptions:\n",
      "citizen_excep: 326/1351\n",
      "country_excep: 99/1351\n",
      "work_excep: 92/1351\n"
     ]
    }
   ],
   "source": [
    "print(f\"Unique countries that created policies: {len(df.COUNTRY_NAME.unique())}\")\n",
    "print(f\"Initial start date: {df.START_DATE.min()}\")\n",
    "print(f\"Last end date: {df.END_DATE.max()}\")\n",
    "print(\"\\nType of policys:\")\n",
    "print(df.POLICY_TYPE.value_counts())\n",
    "print(\"\\nClosures:\")\n",
    "print(f\"Total of air closures: {df[df.AIR == 1].shape[0]}/{df.shape[0]}\")\n",
    "print(f\"Total of land closures: {df[df.LAND == 1].shape[0]}/{df.shape[0]}\")\n",
    "print(f\"Total of sea closures: {df[df.SEA == 1].shape[0]}/{df.shape[0]}\")\n",
    "print(\"\\nPartial closures params:\")\n",
    "for col in ['CITIZEN', 'HISTORY_BAN', 'REFUGEE', 'VISA_BAN']:\n",
    "    print(f\"{col.lower()}: {df[df[col] == 1].shape[0]}/{df.shape[0]}\")\n",
    "print(\"\\nComplete closure exceptions:\")    \n",
    "for col in ['CITIZEN_EXCEP', 'COUNTRY_EXCEP', 'WORK_EXCEP']:\n",
    "    print(f\"{col.lower()}: {df[df[col] == 1].shape[0]}/{df.shape[0]}\")"
   ]
  },
  {
   "cell_type": "code",
   "execution_count": 6,
   "metadata": {},
   "outputs": [
    {
     "data": {
      "image/png": "[encoded data removed]",
      "text/plain": [
       "<Figure size 432x288 with 1 Axes>"
      ]
     },
     "metadata": {
      "needs_background": "light"
     },
     "output_type": "display_data"
    }
   ],
   "source": [
    "df = df.sort_values('START_DATE')\n",
    "for i in range(df.shape[0]):\n",
    "    if not (pd.isnull(df.END_DATE.iloc[i]) or pd.isnull(df.START_DATE.iloc[i])):\n",
    "        if df.POLICY_TYPE.iloc[i] == 'PARTIAL':\n",
    "            plt.plot([df.START_DATE.iloc[i], df.END_DATE.iloc[i]], [i, i], color = 'blue', alpha = 0.6)\n",
    "        elif df.POLICY_TYPE.iloc[i] == 'COMPLETE':\n",
    "            plt.plot([df.START_DATE.iloc[i], df.END_DATE.iloc[i]], [i, i], color = 'green', alpha = 0.6)\n",
    "            \n",
    "plt.title(\"Closures time interval\")\n",
    "plt.xlabel(\"Date\")\n",
    "plt.show()"
   ]
  },
  {
   "cell_type": "markdown",
   "metadata": {},
   "source": [
    "# First version of graph"
   ]
  },
  {
   "cell_type": "code",
   "execution_count": 7,
   "metadata": {},
   "outputs": [
    {
     "data": {
      "text/plain": [
       "(array([0, 1, 2, 3], dtype=int64),\n",
       " array([  46, 1005,  220,   80], dtype=int64))"
      ]
     },
     "execution_count": 7,
     "metadata": {},
     "output_type": "execute_result"
    }
   ],
   "source": [
    "# checking if there is more than one restriction for each row\n",
    "sum_of_rest = np.sum(df[['AIR', 'LAND', 'SEA', 'CITIZEN', 'HISTORY_BAN', 'REFUGEE', \n",
    "                         'VISA_BAN', 'CITIZEN_EXCEP', 'COUNTRY_EXCEP','WORK_EXCEP']].values,\n",
    "                     axis = 1)\n",
    "np.unique(sum_of_rest, return_counts = True)"
   ]
  },
  {
   "cell_type": "code",
   "execution_count": 20,
   "metadata": {},
   "outputs": [
    {
     "data": {
      "text/html": [
       "<div>\n",
       "<style scoped>\n",
       "    .dataframe tbody tr th:only-of-type {\n",
       "        vertical-align: middle;\n",
       "    }\n",
       "\n",
       "    .dataframe tbody tr th {\n",
       "        vertical-align: top;\n",
       "    }\n",
       "\n",
       "    .dataframe thead th {\n",
       "        text-align: right;\n",
       "    }\n",
       "</style>\n",
       "<table border=\"1\" class=\"dataframe\">\n",
       "  <thead>\n",
       "    <tr style=\"text-align: right;\">\n",
       "      <th></th>\n",
       "      <th>COUNTRY1</th>\n",
       "      <th>COUNTRY2</th>\n",
       "      <th>TYPE</th>\n",
       "      <th>START_DATE</th>\n",
       "      <th>END_DATE</th>\n",
       "      <th>DF_ROW_ID</th>\n",
       "    </tr>\n",
       "  </thead>\n",
       "  <tbody>\n",
       "    <tr>\n",
       "      <th>0</th>\n",
       "      <td>Marshall Islands</td>\n",
       "      <td>China</td>\n",
       "      <td>HISTORY_BAN</td>\n",
       "      <td>2020-01-24</td>\n",
       "      <td>2020-02-02</td>\n",
       "      <td>1</td>\n",
       "    </tr>\n",
       "    <tr>\n",
       "      <th>1</th>\n",
       "      <td>Russian Federation</td>\n",
       "      <td>China</td>\n",
       "      <td>LAND</td>\n",
       "      <td>2020-01-28</td>\n",
       "      <td>2020-02-07</td>\n",
       "      <td>3</td>\n",
       "    </tr>\n",
       "    <tr>\n",
       "      <th>2</th>\n",
       "      <td>Georgia</td>\n",
       "      <td>China</td>\n",
       "      <td>AIR</td>\n",
       "      <td>2020-01-29</td>\n",
       "      <td>NaT</td>\n",
       "      <td>5</td>\n",
       "    </tr>\n",
       "    <tr>\n",
       "      <th>3</th>\n",
       "      <td>Singapore</td>\n",
       "      <td>China</td>\n",
       "      <td>CITIZEN</td>\n",
       "      <td>2020-01-29</td>\n",
       "      <td>2020-03-23</td>\n",
       "      <td>6</td>\n",
       "    </tr>\n",
       "    <tr>\n",
       "      <th>4</th>\n",
       "      <td>Singapore</td>\n",
       "      <td>China</td>\n",
       "      <td>HISTORY_BAN</td>\n",
       "      <td>2020-01-29</td>\n",
       "      <td>2020-03-23</td>\n",
       "      <td>6</td>\n",
       "    </tr>\n",
       "  </tbody>\n",
       "</table>\n",
       "</div>"
      ],
      "text/plain": [
       "             COUNTRY1 COUNTRY2         TYPE START_DATE   END_DATE  DF_ROW_ID\n",
       "0    Marshall Islands    China  HISTORY_BAN 2020-01-24 2020-02-02          1\n",
       "1  Russian Federation    China         LAND 2020-01-28 2020-02-07          3\n",
       "2             Georgia    China          AIR 2020-01-29        NaT          5\n",
       "3           Singapore    China      CITIZEN 2020-01-29 2020-03-23          6\n",
       "4           Singapore    China  HISTORY_BAN 2020-01-29 2020-03-23          6"
      ]
     },
     "execution_count": 20,
     "metadata": {},
     "output_type": "execute_result"
    }
   ],
   "source": [
    "cols_boolean = ['AIR', 'LAND', 'SEA', 'CITIZEN', 'HISTORY_BAN', 'REFUGEE', \n",
    "                'VISA_BAN', 'COUNTRY_EXCEP']\n",
    "cols_type = [col for col in cols_boolean if col+'_TYPE' in df.columns]\n",
    "\n",
    "cols_names = {}\n",
    "for col in cols_boolean:\n",
    "    if 'TARGETS_'+col in df.columns:\n",
    "        cols_names[col] = 'TARGETS_'+col\n",
    "    else:\n",
    "        cols_names[col] = col+'_LIST'\n",
    "\n",
    "def add_dict(row,dic):\n",
    "    for i, key in enumerate(dic):\n",
    "        dic[key].append(row[i])\n",
    "        \n",
    "def parse_country_list(string):\n",
    "    string = str(string)\n",
    "    possible_seps = ['or','and']\n",
    "    for sep in possible_seps:\n",
    "        string.replace(sep, ',')\n",
    "    list_string = string.split(sep=',')\n",
    "    for i in range(len(list_string)):\n",
    "        list_string[i] = list_string[i].split(sep='(')[0].strip()\n",
    "    list_string = [string for string in list_string if string in countries]\n",
    "    return list_string\n",
    "\n",
    "# only considering these countries\n",
    "countries = df['COUNTRY_NAME'].unique()\n",
    "\n",
    "edges_remove = {'COUNTRY1':[],'COUNTRY2':[],'TYPE':[],'START_DATE':[],'END_DATE':[],'DF_ROW_ID':[]}\n",
    "count = -1\n",
    "for index, row in df.iterrows():\n",
    "    count += 1\n",
    "    country1 = row['COUNTRY_NAME']\n",
    "    for col in cols_boolean:\n",
    "        if row[col] == 1:\n",
    "            if (col not in cols_type) or (col in cols_type and row[col+'_TYPE'] == 'Specific'):\n",
    "                countries2 = parse_country_list(row[cols_names[col]])\n",
    "                for country2 in countries2:\n",
    "                    add_dict([country1,country2,col,row['START_DATE'],row['END_DATE'],count], edges_remove)\n",
    "            elif row[col+'_TYPE'] == 'All':\n",
    "                if country1 in countries:\n",
    "                    add_dict([country1,'EVERYONE',col,row['START_DATE'],row['END_DATE'],count], edges_remove)\n",
    "\n",
    "edges_remove = pd.DataFrame(edges_remove)\n",
    "edges_remove.head()"
   ]
  },
  {
   "cell_type": "code",
   "execution_count": 21,
   "metadata": {},
   "outputs": [],
   "source": [
    "dates = np.concatenate([edges_remove['START_DATE'].dropna(),\n",
    "                        edges_remove['END_DATE'].dropna()])\n",
    "dates = np.sort(np.unique(dates))\n",
    "min_date = np.min(dates)\n",
    "max_date = np.max(dates)"
   ]
  },
  {
   "cell_type": "code",
   "execution_count": 22,
   "metadata": {},
   "outputs": [
    {
     "data": {
      "text/html": [
       "<div>\n",
       "<style scoped>\n",
       "    .dataframe tbody tr th:only-of-type {\n",
       "        vertical-align: middle;\n",
       "    }\n",
       "\n",
       "    .dataframe tbody tr th {\n",
       "        vertical-align: top;\n",
       "    }\n",
       "\n",
       "    .dataframe thead th {\n",
       "        text-align: right;\n",
       "    }\n",
       "</style>\n",
       "<table border=\"1\" class=\"dataframe\">\n",
       "  <thead>\n",
       "    <tr style=\"text-align: right;\">\n",
       "      <th></th>\n",
       "      <th>COUNTRY1</th>\n",
       "      <th>COUNTRY2</th>\n",
       "      <th>TYPE</th>\n",
       "      <th>START_DATE</th>\n",
       "      <th>END_DATE</th>\n",
       "      <th>DF_ROW_ID</th>\n",
       "    </tr>\n",
       "  </thead>\n",
       "  <tbody>\n",
       "    <tr>\n",
       "      <th>0</th>\n",
       "      <td>Marshall Islands</td>\n",
       "      <td>China</td>\n",
       "      <td>HISTORY_BAN</td>\n",
       "      <td>2020-01-24</td>\n",
       "      <td>2020-02-02</td>\n",
       "      <td>1</td>\n",
       "    </tr>\n",
       "    <tr>\n",
       "      <th>1</th>\n",
       "      <td>Russian Federation</td>\n",
       "      <td>China</td>\n",
       "      <td>LAND</td>\n",
       "      <td>2020-01-28</td>\n",
       "      <td>2020-02-07</td>\n",
       "      <td>3</td>\n",
       "    </tr>\n",
       "    <tr>\n",
       "      <th>2</th>\n",
       "      <td>Georgia</td>\n",
       "      <td>China</td>\n",
       "      <td>AIR</td>\n",
       "      <td>2020-01-29</td>\n",
       "      <td>2021-10-01</td>\n",
       "      <td>5</td>\n",
       "    </tr>\n",
       "    <tr>\n",
       "      <th>3</th>\n",
       "      <td>Singapore</td>\n",
       "      <td>China</td>\n",
       "      <td>CITIZEN</td>\n",
       "      <td>2020-01-29</td>\n",
       "      <td>2020-03-23</td>\n",
       "      <td>6</td>\n",
       "    </tr>\n",
       "    <tr>\n",
       "      <th>4</th>\n",
       "      <td>Singapore</td>\n",
       "      <td>China</td>\n",
       "      <td>HISTORY_BAN</td>\n",
       "      <td>2020-01-29</td>\n",
       "      <td>2020-03-23</td>\n",
       "      <td>6</td>\n",
       "    </tr>\n",
       "  </tbody>\n",
       "</table>\n",
       "</div>"
      ],
      "text/plain": [
       "             COUNTRY1 COUNTRY2         TYPE START_DATE   END_DATE  DF_ROW_ID\n",
       "0    Marshall Islands    China  HISTORY_BAN 2020-01-24 2020-02-02          1\n",
       "1  Russian Federation    China         LAND 2020-01-28 2020-02-07          3\n",
       "2             Georgia    China          AIR 2020-01-29 2021-10-01          5\n",
       "3           Singapore    China      CITIZEN 2020-01-29 2020-03-23          6\n",
       "4           Singapore    China  HISTORY_BAN 2020-01-29 2020-03-23          6"
      ]
     },
     "execution_count": 22,
     "metadata": {},
     "output_type": "execute_result"
    }
   ],
   "source": [
    "# drop edges with no start_date\n",
    "edges_remove = edges_remove.dropna(subset=['START_DATE'])\n",
    "\n",
    "# change edges with no end_date to max date from dataset\n",
    "edges_remove['END_DATE'] = edges_remove['END_DATE'].fillna(max_date)\n",
    "\n",
    "edges_remove.head()"
   ]
  },
  {
   "cell_type": "code",
   "execution_count": 23,
   "metadata": {},
   "outputs": [
    {
     "data": {
      "text/html": [
       "<div>\n",
       "<style scoped>\n",
       "    .dataframe tbody tr th:only-of-type {\n",
       "        vertical-align: middle;\n",
       "    }\n",
       "\n",
       "    .dataframe tbody tr th {\n",
       "        vertical-align: top;\n",
       "    }\n",
       "\n",
       "    .dataframe thead th {\n",
       "        text-align: right;\n",
       "    }\n",
       "</style>\n",
       "<table border=\"1\" class=\"dataframe\">\n",
       "  <thead>\n",
       "    <tr style=\"text-align: right;\">\n",
       "      <th></th>\n",
       "      <th>COUNTRY1</th>\n",
       "      <th>COUNTRY2</th>\n",
       "      <th>TYPE</th>\n",
       "      <th>START_DATE</th>\n",
       "      <th>END_DATE</th>\n",
       "      <th>DF_ROW_ID</th>\n",
       "      <th>WEIGHT</th>\n",
       "    </tr>\n",
       "  </thead>\n",
       "  <tbody>\n",
       "    <tr>\n",
       "      <th>0</th>\n",
       "      <td>Marshall Islands</td>\n",
       "      <td>China</td>\n",
       "      <td>HISTORY_BAN</td>\n",
       "      <td>2020-01-24</td>\n",
       "      <td>2020-02-02</td>\n",
       "      <td>1</td>\n",
       "      <td>0.0</td>\n",
       "    </tr>\n",
       "    <tr>\n",
       "      <th>1</th>\n",
       "      <td>Russian Federation</td>\n",
       "      <td>China</td>\n",
       "      <td>LAND</td>\n",
       "      <td>2020-01-28</td>\n",
       "      <td>2020-02-07</td>\n",
       "      <td>3</td>\n",
       "      <td>0.0</td>\n",
       "    </tr>\n",
       "    <tr>\n",
       "      <th>2</th>\n",
       "      <td>Georgia</td>\n",
       "      <td>China</td>\n",
       "      <td>AIR</td>\n",
       "      <td>2020-01-29</td>\n",
       "      <td>2021-10-01</td>\n",
       "      <td>5</td>\n",
       "      <td>1.0</td>\n",
       "    </tr>\n",
       "    <tr>\n",
       "      <th>3</th>\n",
       "      <td>Singapore</td>\n",
       "      <td>China</td>\n",
       "      <td>CITIZEN</td>\n",
       "      <td>2020-01-29</td>\n",
       "      <td>2020-03-23</td>\n",
       "      <td>6</td>\n",
       "      <td>0.0</td>\n",
       "    </tr>\n",
       "    <tr>\n",
       "      <th>4</th>\n",
       "      <td>Singapore</td>\n",
       "      <td>China</td>\n",
       "      <td>HISTORY_BAN</td>\n",
       "      <td>2020-01-29</td>\n",
       "      <td>2020-03-23</td>\n",
       "      <td>6</td>\n",
       "      <td>0.0</td>\n",
       "    </tr>\n",
       "  </tbody>\n",
       "</table>\n",
       "</div>"
      ],
      "text/plain": [
       "             COUNTRY1 COUNTRY2         TYPE START_DATE   END_DATE  DF_ROW_ID  \\\n",
       "0    Marshall Islands    China  HISTORY_BAN 2020-01-24 2020-02-02          1   \n",
       "1  Russian Federation    China         LAND 2020-01-28 2020-02-07          3   \n",
       "2             Georgia    China          AIR 2020-01-29 2021-10-01          5   \n",
       "3           Singapore    China      CITIZEN 2020-01-29 2020-03-23          6   \n",
       "4           Singapore    China  HISTORY_BAN 2020-01-29 2020-03-23          6   \n",
       "\n",
       "   WEIGHT  \n",
       "0     0.0  \n",
       "1     0.0  \n",
       "2     1.0  \n",
       "3     0.0  \n",
       "4     0.0  "
      ]
     },
     "execution_count": 23,
     "metadata": {},
     "output_type": "execute_result"
    }
   ],
   "source": [
    "#cols_boolean = ['AIR', 'LAND', 'SEA', 'CITIZEN', 'HISTORY_BAN', 'REFUGEE', \n",
    "#                'VISA_BAN', 'COUNTRY_EXCEP']\n",
    "weights = np.array([1, 0, 0, 0, 0, 0, 0, 0]) # prioritizing only AIR for a test\n",
    "weights = weights/weights.sum()\n",
    "type_weight = {cols_boolean[i]:weights[i] for i in range(len(cols_boolean))}\n",
    "edges_remove['WEIGHT'] = [type_weight[type_i] for type_i in edges_remove['TYPE']]\n",
    "edges_remove.head()"
   ]
  },
  {
   "cell_type": "code",
   "execution_count": 24,
   "metadata": {},
   "outputs": [],
   "source": [
    "import pathpy as pp"
   ]
  },
  {
   "cell_type": "code",
   "execution_count": 46,
   "metadata": {},
   "outputs": [
    {
     "name": "stdout",
     "output_type": "stream",
     "text": [
      "Nodes:\t\t\t247\n",
      "Time-stamped links:\t35429\n",
      "Links/Nodes:\t\t143.43724696356276\n",
      "\n"
     ]
    }
   ],
   "source": [
    "temp_net = pp.TemporalNetwork()\n",
    "edges_width = {}\n",
    "t = 0\n",
    "for date in dates:\n",
    "    t += 1\n",
    "    # only considering first date right now\n",
    "    if t==2:\n",
    "        break\n",
    "    cur_data = edges_remove.loc[(edges_remove['START_DATE'] <= date) & (edges_remove['END_DATE'] >= date)]\n",
    "    for index, row in edges_remove.iterrows():\n",
    "        country1 = row['COUNTRY1']\n",
    "        countries2 = [row['COUNTRY2']]\n",
    "        if countries2[0] == 'EVERYONE':\n",
    "            countries2 = countries.copy()\n",
    "        weight = row['WEIGHT']\n",
    "        for country2 in countries2:\n",
    "            if (country1,country2,t) not in edges_width:\n",
    "                edges_width[(country1,country2,t)] = weight\n",
    "            else:\n",
    "                edges_width[(country1,country2,t)] += weight\n",
    "for edge in edges_width:\n",
    "    temp_net.add_edge(edge[0], edge[1], edge[2], directed=True)\n",
    "print(temp_net)"
   ]
  },
  {
   "cell_type": "code",
   "execution_count": 47,
   "metadata": {},
   "outputs": [
    {
     "name": "stdout",
     "output_type": "stream",
     "text": [
      "2021-07-09 02:38:57 [Severity.INFO]\tWriting 35429 time-stamped edges to file data/temp_net_1.csv\n"
     ]
    }
   ],
   "source": [
    "# write data to a file\n",
    "temp_net.write_file('data/temp_net_1.csv', separator = '/')"
   ]
  },
  {
   "cell_type": "code",
   "execution_count": 48,
   "metadata": {},
   "outputs": [
    {
     "name": "stdout",
     "output_type": "stream",
     "text": [
      "2021-07-09 02:38:59 [Severity.INFO]\tReading undirected time-stamped links ...\n",
      "2021-07-09 02:38:59 [Severity.INFO]\tBuilding index data structures ...\n",
      "2021-07-09 02:38:59 [Severity.INFO]\tSorting time stamps ...\n",
      "2021-07-09 02:38:59 [Severity.INFO]\tfinished.\n",
      "Nodes:\t\t\t247\n",
      "Time-stamped links:\t70858\n",
      "Links/Nodes:\t\t286.8744939271255\n",
      "\n"
     ]
    }
   ],
   "source": [
    "# load data to a python object\n",
    "temp_net = pp.TemporalNetwork()\n",
    "temp_net = temp_net.read_file('data/temp_net_1.csv', separator = '/', directed=False)\n",
    "print(temp_net)"
   ]
  },
  {
   "cell_type": "code",
   "execution_count": 49,
   "metadata": {},
   "outputs": [],
   "source": [
    "style = {    \n",
    "    'width': 300, \n",
    "      'height': 300,\n",
    "      'node_size': 18.0,\n",
    "      'edge_arrows': False,\n",
    "      'edge_color' : '#ffaaaa',\n",
    "      'label_color': '#000000',\n",
    "      'label_opacity': 1,\n",
    "      'label_offset': [0,0],\n",
    "      'label_size': '20px',\n",
    "      'force_charge': -20.0, \n",
    "      'force_repel': -550\n",
    "    }\n",
    "style['edge_width'] = edges_width\n",
    "# uncomment to visualize\n",
    "# pp.visualisation.plot(temp_net, **style)"
   ]
  },
  {
   "cell_type": "code",
   "execution_count": 51,
   "metadata": {},
   "outputs": [],
   "source": [
    "# saving visualization\n",
    "pp.visualisation.export_html(temp_net, filename='data/temp_net_1.html', **style)"
   ]
  },
  {
   "cell_type": "code",
   "execution_count": null,
   "metadata": {},
   "outputs": [],
   "source": []
  }
 ],
 "metadata": {
  "kernelspec": {
   "display_name": "Python 3",
   "language": "python",
   "name": "python3"
  },
  "language_info": {
   "codemirror_mode": {
    "name": "ipython",
    "version": 3
   },
   "file_extension": ".py",
   "mimetype": "text/x-python",
   "name": "python",
   "nbconvert_exporter": "python",
   "pygments_lexer": "ipython3",
   "version": "3.8.5"
  }
 },
 "nbformat": 4,
 "nbformat_minor": 5
}
